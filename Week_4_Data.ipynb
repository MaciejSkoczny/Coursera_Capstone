{
 "cells": [
  {
   "cell_type": "markdown",
   "metadata": {},
   "source": [
    "<h2> Week 4 - Introduction </h2>\n",
    "<h3> Data: </h3> \n",
    "<ul>\n",
    "    <li>List of Toronto neighborhoods and boroughs</li>\n",
    "\t<li>Geographical coordinates of Toronto, including neighborhoods and boroughs</li>\n",
    "\t<li>Gym venue data</li>\n",
    "</ul>\n",
    "<h3> Proposed solution: </h3>\n",
    "To solve the business problem and help Jane find a suitable sport for her new gym in Toronto, we'll use the data science methods to determine which neighborhood of Toronto has the smallest number of gyms. We’ll cobine the data extracted by Foursquare API with the geographical coordinates from Wikipedia and find a neighborhood with the smalles number of gyms. We'll use the Jupyter Notebook on the Anaconda platform and Python programming language. We'll use the following data science techniques: \n",
    "<ul>\n",
    "<li>Data extraction\n",
    "<li>Data scrapping\n",
    "<li>Data segmentation\n",
    "<li>Data clustering\n",
    "<li>Data visualization\n",
    "</ul>\n",
    "<h3> Data sources: </h3>\n",
    "<ul>\n",
    "<li>List of Toronto neighborhoods and boroughs (including postal codes): https://en.wikipedia.org/wiki/List_of_postal_codes_of_Canada:_M</li>\n",
    "<li>Geographical coordinates of Toronto, including neighborhoods and boroughs (latitude, longitude): GeoCoder pack</li>\n",
    "<li>Gym venue data, including addresses and types - https://foursquare.com/</li>\n",
    "</ul>"
   ]
  },
  {
   "cell_type": "markdown",
   "metadata": {},
   "source": []
  }
 ],
 "metadata": {
  "kernelspec": {
   "display_name": "Python 3",
   "language": "python",
   "name": "python3"
  },
  "language_info": {
   "codemirror_mode": {
    "name": "ipython",
    "version": 3
   },
   "file_extension": ".py",
   "mimetype": "text/x-python",
   "name": "python",
   "nbconvert_exporter": "python",
   "pygments_lexer": "ipython3",
   "version": "3.8.5"
  }
 },
 "nbformat": 4,
 "nbformat_minor": 4
}
