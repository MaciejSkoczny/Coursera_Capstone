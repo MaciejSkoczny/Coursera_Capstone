{
 "cells": [
  {
   "cell_type": "markdown",
   "metadata": {},
   "source": [
    "<h2>WEEK 4 – INTRODUCTION</h2>\n",
    "\n",
    "<h3>Background:</h3>\n",
    "Our client, Jane Doe, is looking for a suitable location in Toronto to open her new gym. She has experience in the fitness industry and runs a handful of fitness studios in Canada's other regions. She would like to expand her Canadian business to Toronto; however, she doesn't know the city well. \n",
    "\n",
    "<h3>Business problem:</h3>\n",
    "What Toronto neighborhood/borough should Jane open her new gym in? It is important to solve this problem by providing appropriate analysis and conclusions, so that Jane can make good business decisions. \n",
    "\n",
    "<h3>Target Audience:</h3> \n",
    "Jane Doe is our target audience, as she’s our client. The report could be useful for all the entrepreneurs who want to open a new fitness venue in Toronto."
   ]
  }
 ],
 "metadata": {
  "kernelspec": {
   "display_name": "Python 3",
   "language": "python",
   "name": "python3"
  },
  "language_info": {
   "codemirror_mode": {
    "name": "ipython",
    "version": 3
   },
   "file_extension": ".py",
   "mimetype": "text/x-python",
   "name": "python",
   "nbconvert_exporter": "python",
   "pygments_lexer": "ipython3",
   "version": "3.8.5"
  }
 },
 "nbformat": 4,
 "nbformat_minor": 4
}
